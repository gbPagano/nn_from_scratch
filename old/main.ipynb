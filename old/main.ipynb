{
 "cells": [
  {
   "cell_type": "code",
   "execution_count": 2,
   "metadata": {
    "vscode": {
     "languageId": "rust"
    }
   },
   "outputs": [],
   "source": [
    ":dep ndarray = \"0.15.6\"\n",
    ":dep ndarray-rand = \"0.14.0\"\n",
    ":dep showata = { version = \"0.3.2\", features=[\"show_ndarray\"]}\n",
    "//:dep polars = { version = \"0.29.0\", features=[\"ndarray\"]}"
   ]
  },
  {
   "cell_type": "code",
   "execution_count": 3,
   "metadata": {
    "vscode": {
     "languageId": "rust"
    }
   },
   "outputs": [],
   "source": [
    "use ndarray::{Array, Array2, stack, concatenate};\n",
    "use ndarray_rand::RandomExt;\n",
    "use ndarray_rand::rand_distr::Uniform;\n",
    "use ndarray::prelude::*;"
   ]
  },
  {
   "cell_type": "code",
   "execution_count": 4,
   "metadata": {
    "vscode": {
     "languageId": "rust"
    }
   },
   "outputs": [],
   "source": [
    "use std::f64;\n",
    "\n",
    "#[derive(Debug)]\n",
    "enum ActivationFunction {\n",
    "    Tanh,\n",
    "}\n",
    "\n",
    "impl ActivationFunction {\n",
    "    fn activate(&self, x: f64) -> f64 {\n",
    "        match self {\n",
    "            ActivationFunction::Tanh => self.tanh(x),\n",
    "        }\n",
    "    }\n",
    "    \n",
    "    fn derivative(&self, x: f64) -> f64 {\n",
    "        match self {\n",
    "            ActivationFunction::Tanh => self.tanh_derivative(x),\n",
    "        }\n",
    "    }\n",
    "    \n",
    "    fn tanh(&self, x: f64) -> f64 {\n",
    "        x.tanh()\n",
    "    }\n",
    "    \n",
    "    fn tanh_derivative(&self, x: f64) -> f64 {\n",
    "        1.0 - self.tanh(x).powi(2)\n",
    "    }\n",
    "}\n",
    "\n"
   ]
  },
  {
   "cell_type": "code",
   "execution_count": 5,
   "metadata": {
    "vscode": {
     "languageId": "rust"
    }
   },
   "outputs": [],
   "source": [
    "#[derive(Debug)]\n",
    "struct Layer {\n",
    "    len_inputs: usize,\n",
    "    neurons: usize,\n",
    "    function: ActivationFunction,\n",
    "    weights: Array2<f64>,\n",
    "    input: Option<Array2<f64>>,\n",
    "    net: Option<Array2<f64>>,\n",
    "    output: Option<Array2<f64>>,\n",
    "    idx: Option<usize>,\n",
    "}\n",
    "\n",
    "impl Layer {\n",
    "    fn new(len_inputs: usize, neurons: usize, function: ActivationFunction) -> Self {\n",
    "        let shape = (neurons, len_inputs + 1);\n",
    "        let weights = Array::random(shape, Uniform::new(-0.5, 0.5));\n",
    "\n",
    "        Layer {\n",
    "            len_inputs: len_inputs,\n",
    "            neurons: neurons,\n",
    "            function: function,\n",
    "            weights: weights,\n",
    "            input: None,\n",
    "            net: None,\n",
    "            output: None,\n",
    "            idx: None,\n",
    "        }\n",
    "    }\n",
    "\n",
    "    fn forward(&mut self, layer_input: &Array2<f64>) -> Array2<f64> {\n",
    "        self.input = Some(layer_input.clone());\n",
    "        self.net = Some(self.input.as_ref().unwrap().dot(&self.weights.t()));\n",
    "        self.output = Some(self.net.as_ref().unwrap().mapv(|x| self.function.activate(x)));\n",
    "        self.output.clone().unwrap()\n",
    "    }\n",
    "\n",
    "    \n",
    "    fn backward(\n",
    "        &mut self, \n",
    "        alpha: f64,\n",
    "        last: bool,\n",
    "        previous_delta: Option<&Array2<f64>>,\n",
    "        previous_weight: Option<&Array2<f64>>,\n",
    "        error: Option<&Array2<f64>>\n",
    "    ) -> (Array2<f64>, Array2<f64>) {\n",
    "        \n",
    "        let delta = if last {\n",
    "            let error = error.unwrap();\n",
    "            error * self.net.as_ref().unwrap().mapv(|x| self.function.derivative(x))\n",
    "        } else {\n",
    "            let previous_delta = previous_delta.unwrap();\n",
    "            let previous_weight = previous_weight.unwrap();\n",
    "            let delta = previous_delta.dot(previous_weight).slice(s![.., 1..]).to_owned();\n",
    "            delta * self.net.as_ref().unwrap().mapv(|x| self.function.derivative(x))\n",
    "        };\n",
    "        \n",
    "        \n",
    "        self.weights = delta.t().dot(self.input.as_ref().unwrap()) * alpha + &self.weights;\n",
    "        \n",
    "        (delta, self.weights.to_owned())\n",
    "    }\n",
    "\n",
    "\n",
    "\n",
    "    fn set_idx(&mut self, idx: usize) {\n",
    "        self.idx = Some(idx);\n",
    "    }\n",
    "}"
   ]
  },
  {
   "cell_type": "code",
   "execution_count": 6,
   "metadata": {
    "vscode": {
     "languageId": "rust"
    }
   },
   "outputs": [],
   "source": [
    "#[derive(Debug)]\n",
    "struct NeuralNetwork {\n",
    "    layers: Vec<Layer>,\n",
    "    all_mse: Vec<f64>,\n",
    "}\n",
    "\n",
    "impl NeuralNetwork {\n",
    "    fn new(mut layers: Vec<Layer>) -> Self {\n",
    "        for (idx, layer) in layers.iter_mut().enumerate() {\n",
    "            layer.set_idx(idx + 1);\n",
    "        }\n",
    "        \n",
    "        NeuralNetwork {\n",
    "            layers,\n",
    "            all_mse: Vec::new(),\n",
    "        }\n",
    "    }\n",
    "\n",
    "    fn forward(&mut self, x_input: &Array2<f64>) -> Array2<f64> {\n",
    "        let mut input_layer = concatenate![Axis(1), Array::from_shape_vec((1, 1), vec![1.0]).unwrap(), x_input.clone()];\n",
    "        let mut output: Array2<f64> = Array::zeros((0, 0));\n",
    "\n",
    "        for layer in &mut self.layers {\n",
    "            output = layer.forward(&input_layer);\n",
    "            input_layer = concatenate![Axis(1), Array::from_shape_vec((1, 1), vec![1.0]).unwrap(), output];\n",
    "        }\n",
    "\n",
    "        output\n",
    "    }\n",
    "\n",
    "    fn backward(&mut self, alpha: f64, error: &Array2<f64>) {\n",
    "        let mut previous_delta = None;\n",
    "        let mut previous_weight = None;\n",
    "        let mut last = true;\n",
    "        \n",
    "        for layer in self.layers.iter_mut().rev() {\n",
    "            let (delta, weights) = layer.backward(alpha, last, previous_delta.as_ref(), previous_weight.as_ref(), Some(&error));\n",
    "            last = false;\n",
    "            previous_delta = Some(delta);\n",
    "            previous_weight = Some(weights);\n",
    "        }\n",
    "    }\n",
    "\n",
    "    fn predict(&mut self, x: &Array2<f64>) -> Array2<f64> {\n",
    "        self.forward(x)\n",
    "    }\n",
    "}"
   ]
  },
  {
   "cell_type": "code",
   "execution_count": 617,
   "metadata": {
    "vscode": {
     "languageId": "rust"
    }
   },
   "outputs": [
    {
     "data": {
      "text/plain": [
       "[[0.5763660324621392]], shape=[1, 1], strides=[1, 1], layout=CFcf (0xf), const ndim=2"
      ]
     },
     "execution_count": 617,
     "metadata": {},
     "output_type": "execute_result"
    }
   ],
   "source": [
    "let weights_1 = array![[0.2, 0.4, 0.5],[0.3, 0.6, 0.7],[0.4, 0.8, 0.3]];\n",
    "let weights_2 = array![[-0.7, 0.6, 0.2, 0.7],[-0.3, 0.7, 0.2, 0.8]];\n",
    "let weights_3 = array![[0.1, 0.8, 0.5]];\n",
    "\n",
    "\n",
    "let mut nn = NeuralNetwork::new(vec![\n",
    "    Layer::new(2, 3, ActivationFunction::Tanh),\n",
    "    Layer::new(3, 2, ActivationFunction::Tanh),\n",
    "    Layer::new(2, 1, ActivationFunction::Tanh),\n",
    "]);\n",
    "\n",
    "nn.layers[0].weights = weights_1;\n",
    "nn.layers[1].weights = weights_2;\n",
    "nn.layers[2].weights = weights_3;\n",
    "\n",
    "let x_inputs = array![[0.3, 0.7]];\n",
    "let out = nn.forward(&x_inputs);\n",
    "out\n"
   ]
  },
  {
   "cell_type": "code",
   "execution_count": 618,
   "metadata": {
    "vscode": {
     "languageId": "rust"
    }
   },
   "outputs": [
    {
     "data": {
      "text/plain": [
       "[[0.403346832835286]], shape=[1, 1], strides=[1, 1], layout=CFcf (0xf), const ndim=2"
      ]
     },
     "execution_count": 618,
     "metadata": {},
     "output_type": "execute_result"
    }
   ],
   "source": [
    "nn.backward(0.05, &array![[-2.0]]);\n",
    "nn.predict(&x_inputs)"
   ]
  },
  {
   "cell_type": "code",
   "execution_count": 9,
   "metadata": {
    "vscode": {
     "languageId": "rust"
    }
   },
   "outputs": [],
   "source": [
    "use polars::prelude::*;\n",
    "let file_path = \"train.csv\";\n",
    "\n",
    "    // Ler o arquivo CSV para um DataFrame\n",
    "let df: DataFrame = CsvReader::from_path(file_path)\n",
    "    .unwrap()\n",
    "    .infer_schema(None)\n",
    "    .has_header(true)\n",
    "    .finish()\n",
    "    .unwrap();\n",
    "\n",
    "// Exibir o DataFrame"
   ]
  },
  {
   "cell_type": "code",
   "execution_count": 110,
   "metadata": {
    "vscode": {
     "languageId": "rust"
    }
   },
   "outputs": [],
   "source": [
    ":dep ndarray-csv = {version = \"0.4.1\"}\n",
    ":dep csv"
   ]
  },
  {
   "cell_type": "code",
   "execution_count": 10,
   "metadata": {
    "vscode": {
     "languageId": "rust"
    }
   },
   "outputs": [],
   "source": [
    "let ndarray = df.to_ndarray::<Float64Type>().unwrap();"
   ]
  },
  {
   "cell_type": "code",
   "execution_count": 33,
   "metadata": {
    "vscode": {
     "languageId": "rust"
    }
   },
   "outputs": [
    {
     "data": {
      "text/plain": [
       "[[0.0, 0.0, 0.0, 0.0, 0.0, ..., 0.0, 0.0, 0.0, 0.0, 0.0]], shape=[1, 784], strides=[784, 1], layout=CFcf (0xf), const ndim=2"
      ]
     },
     "execution_count": 33,
     "metadata": {},
     "output_type": "execute_result"
    }
   ],
   "source": [
    "let mut z = Array::zeros((1, ndarray.shape()[1]-1));\n",
    "for linha in ndarray.slice(s![.., 1..]).to_owned().axis_iter(Axis(0)) {\n",
    "    z.assign(&linha);\n",
    "}\n",
    "z"
   ]
  },
  {
   "cell_type": "code",
   "execution_count": 18,
   "metadata": {
    "vscode": {
     "languageId": "rust"
    }
   },
   "outputs": [
    {
     "ename": "Error",
     "evalue": "The variable `y_train` has type `ArrayBase<ndarray::ViewRepr<&f64>, Dim<[usize; _]>>` which cannot be persisted.\nYou might be able to fix this by creating a `Box<dyn YourType>`. e.g.\nlet v: Box<dyn core::fmt::Debug> = Box::new(foo());\nAlternatively, you can prevent evcxr from attempting to persist\nthe variable by wrapping your code in braces.",
     "output_type": "error",
     "traceback": [
      "The variable `y_train` has type `ArrayBase<ndarray::ViewRepr<&f64>, Dim<[usize; _]>>` which cannot be persisted.\nYou might be able to fix this by creating a `Box<dyn YourType>`. e.g.\nlet v: Box<dyn core::fmt::Debug> = Box::new(foo());\nAlternatively, you can prevent evcxr from attempting to persist\nthe variable by wrapping your code in braces."
     ]
    }
   ],
   "source": [
    "let y_train = ndarray.slice(s![.., ..1]);\n",
    "let x_train = ndarray.slice(s![.., 1..]).to_owned()"
   ]
  },
  {
   "cell_type": "code",
   "execution_count": null,
   "metadata": {
    "vscode": {
     "languageId": "rust"
    }
   },
   "outputs": [],
   "source": [
    "ndarray.slice(s![..10, 1..]).to_owned().iter().map(|x| x*2.0).collect::<Vec<f64>>()"
   ]
  },
  {
   "cell_type": "code",
   "execution_count": 7,
   "metadata": {
    "vscode": {
     "languageId": "rust"
    }
   },
   "outputs": [],
   "source": [
    "\n",
    "let mut nn = NeuralNetwork::new(vec![\n",
    "    Layer::new(784, 20, ActivationFunction::Tanh),\n",
    "    Layer::new(20, 20, ActivationFunction::Tanh),\n",
    "    Layer::new(20, 10, ActivationFunction::Tanh),\n",
    "]);\n",
    "\n",
    "\n"
   ]
  },
  {
   "cell_type": "code",
   "execution_count": 37,
   "metadata": {
    "vscode": {
     "languageId": "rust"
    }
   },
   "outputs": [
    {
     "data": {
      "text/plain": [
       "[[0.0678924763507549, 0.026817238404717614, 0.4600452324269091, 0.29865287936780915, 0.3867389105412007, ..., -0.27152510334178026, 0.21817470976871367, -0.20259140072437098, 0.011645148821384455, -0.1651635784738379],\n",
       " [-0.41745129804815706, 0.23219777172019063, -0.4920782069601646, -0.32307680363188296, -0.3302317081543218, ..., 0.2843282650289085, -0.0977307901032689, -0.24252542365813423, 0.2037530724150347, 0.41597954984659724],\n",
       " [0.11248100199905497, -0.1637814672380895, -0.01522655292539632, 0.38826067562455724, 0.37865720563358507, ..., 0.2041100591086833, 0.017731740825965847, -0.33483931587481486, 0.1493255397312827, -0.46575563531640984],\n",
       " [0.20724052580551833, 0.17076519378053479, 0.48233035200533037, -0.46517426953018237, 0.3295027846615277, ..., 0.30563897973247145, 0.24037684156947337, 0.34366546702343514, -0.456945300156111, -0.19814285605318016],\n",
       " [0.01569383857754314, -0.34392953859054987, 0.15016157660280105, -0.0519266977240358, 0.028716919447639988, ..., -0.16958275452925142, 0.36501055517718606, 0.19723689385297205, 0.30916607682529573, 0.15283249473598048],\n",
       " ...,\n",
       " [-0.38962677753428543, 0.3905499573913904, 0.06976592912777502, 0.3384864164097936, 0.2474303783977152, ..., -0.34794611720692203, 0.07395454873842677, 0.021915513408567122, -0.4334059952863414, 0.3116051554093924],\n",
       " [-0.3179426146378286, -0.29964345203002174, -0.14133446078620326, -0.4949781402250797, 0.17592540610932694, ..., 0.4270334709825381, 0.13809436503123695, -0.3520312566950561, -0.3235482049221776, -0.047740920594500524],\n",
       " [-0.46651302540536177, -0.2562392519476746, 0.1076771187995671, -0.008525616949394355, 0.14173481755746242, ..., -0.3537903826519788, -0.31660910582546076, 0.1604099690430163, 0.05695647248717539, 0.18363696435414578],\n",
       " [0.4007947167986785, -0.057922513402719256, -0.3679478609237832, 0.38607237837010344, 0.08436759506465341, ..., 0.20846385076345264, 0.023294440235218428, -0.15041760357281264, -0.4399695675434827, 0.4974290409071622],\n",
       " [-0.4686418622365125, 0.02992914007455094, 0.2434318635435151, 0.1319102119308253, 0.05217487903795681, ..., 0.23890348396534455, 0.30727682437453097, 0.09612018686356305, -0.3792056450157506, -0.4592776403038632]], shape=[20, 785], strides=[785, 1], layout=Cc (0x5), const ndim=2"
      ]
     },
     "execution_count": 37,
     "metadata": {},
     "output_type": "execute_result"
    }
   ],
   "source": [
    "nn.layers[0].weights"
   ]
  },
  {
   "cell_type": "code",
   "execution_count": 34,
   "metadata": {
    "vscode": {
     "languageId": "rust"
    }
   },
   "outputs": [
    {
     "data": {
      "text/plain": [
       "[[-0.8575975543026888, 0.7418844757167533, 0.008276932948479847, 0.30835947317996804, -0.9020352534626893, 0.7557398196992497, 0.7035063310380174, -0.7711807842923268, 0.5960649283081518, 0.9926227474377259]], shape=[1, 10], strides=[1, 1], layout=CFcf (0xf), const ndim=2"
      ]
     },
     "execution_count": 34,
     "metadata": {},
     "output_type": "execute_result"
    }
   ],
   "source": [
    "nn.forward(&z)"
   ]
  },
  {
   "cell_type": "code",
   "execution_count": 22,
   "metadata": {
    "vscode": {
     "languageId": "rust"
    }
   },
   "outputs": [
    {
     "data": {
      "text/plain": [
       "[[-0.2963793352136983, -0.15052976608205304, -0.27497275043491043],\n",
       " [-0.19151175794119135, 0.1644954224317805, -0.4306283995204303]], shape=[2, 3], strides=[3, 1], layout=Cc (0x5), const ndim=2"
      ]
     },
     "execution_count": 22,
     "metadata": {},
     "output_type": "execute_result"
    }
   ],
   "source": [
    "let weights = Array::random((2,3), Uniform::new(-0.5, 0.5));\n",
    "weights"
   ]
  },
  {
   "cell_type": "code",
   "execution_count": 21,
   "metadata": {
    "vscode": {
     "languageId": "rust"
    }
   },
   "outputs": [],
   "source": [
    "fn ndarray_to_vec2d(arr: &Array2<f64>) -> Vec<Vec<f64>> {\n",
    "    let mut vec2d: Vec<Vec<f64>> = Vec::new();\n",
    "    \n",
    "    for row in arr.outer_iter() {\n",
    "        let row_vec: Vec<f64> = row.iter().cloned().collect();\n",
    "        vec2d.push(row_vec);\n",
    "    }\n",
    "    \n",
    "    vec2d\n",
    "}"
   ]
  },
  {
   "cell_type": "code",
   "execution_count": 24,
   "metadata": {
    "vscode": {
     "languageId": "rust"
    }
   },
   "outputs": [
    {
     "data": {
      "text/plain": [
       "[[-0.2963793352136983, -0.15052976608205304, -0.27497275043491043], [-0.19151175794119135, 0.1644954224317805, -0.4306283995204303]]"
      ]
     },
     "execution_count": 24,
     "metadata": {},
     "output_type": "execute_result"
    }
   ],
   "source": [
    "let a = ndarray_to_vec2d(&weights);\n",
    "a"
   ]
  },
  {
   "cell_type": "code",
   "execution_count": 18,
   "metadata": {
    "vscode": {
     "languageId": "rust"
    }
   },
   "outputs": [],
   "source": [
    "fn vec2d_to_ndarray(vec2d: Vec<Vec<f64>>) -> Array2<f64> {\n",
    "    let rows = vec2d.len();\n",
    "    let cols = vec2d[0].len();\n",
    "    \n",
    "    let mut arr = Array::zeros((rows, cols));\n",
    "    \n",
    "    for (i, row) in vec2d.iter().enumerate() {\n",
    "        for (j, &element) in row.iter().enumerate() {\n",
    "            arr[[i, j]] = element;\n",
    "        }\n",
    "    }\n",
    "    \n",
    "    arr\n",
    "}\n"
   ]
  },
  {
   "cell_type": "code",
   "execution_count": 19,
   "metadata": {
    "vscode": {
     "languageId": "rust"
    }
   },
   "outputs": [
    {
     "data": {
      "text/plain": [
       "[[-0.26562747473365445, -0.26194153720101476, -0.11753596474459416],\n",
       " [-0.05613611233936222, 0.3936101608844258, 0.3450691782536863]], shape=[2, 3], strides=[3, 1], layout=Cc (0x5), const ndim=2"
      ]
     },
     "execution_count": 19,
     "metadata": {},
     "output_type": "execute_result"
    }
   ],
   "source": [
    "let b = vec2d_to_ndarray(a);\n",
    "b"
   ]
  },
  {
   "cell_type": "code",
   "execution_count": 25,
   "metadata": {
    "vscode": {
     "languageId": "rust"
    }
   },
   "outputs": [
    {
     "data": {
      "text/plain": [
       "[[-0.2963793352136983, -0.15052976608205304, -0.27497275043491043],\n",
       " [-0.19151175794119135, 0.1644954224317805, -0.4306283995204303]], shape=[2, 3], strides=[3, 1], layout=Cc (0x5), const ndim=2"
      ]
     },
     "execution_count": 25,
     "metadata": {},
     "output_type": "execute_result"
    }
   ],
   "source": [
    "weights"
   ]
  },
  {
   "cell_type": "code",
   "execution_count": 27,
   "metadata": {
    "vscode": {
     "languageId": "rust"
    }
   },
   "outputs": [
    {
     "data": {
      "text/plain": [
       "[[0.3, 0.7]], shape=[1, 2], strides=[2, 1], layout=CFcf (0xf), const ndim=2"
      ]
     },
     "execution_count": 27,
     "metadata": {},
     "output_type": "execute_result"
    }
   ],
   "source": [
    "let x_inputs = array![[0.3, 0.7]];\n",
    "x_inputs"
   ]
  },
  {
   "cell_type": "code",
   "execution_count": null,
   "metadata": {
    "vscode": {
     "languageId": "rust"
    }
   },
   "outputs": [],
   "source": []
  }
 ],
 "metadata": {
  "kernelspec": {
   "display_name": "Rust",
   "language": "rust",
   "name": "rust"
  },
  "language_info": {
   "codemirror_mode": "rust",
   "file_extension": ".rs",
   "mimetype": "text/rust",
   "name": "Rust",
   "pygment_lexer": "rust",
   "version": ""
  },
  "orig_nbformat": 4
 },
 "nbformat": 4,
 "nbformat_minor": 2
}
